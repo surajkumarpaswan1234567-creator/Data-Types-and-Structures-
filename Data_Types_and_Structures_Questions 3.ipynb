{
  "nbformat": 4,
  "nbformat_minor": 0,
  "metadata": {
    "colab": {
      "provenance": []
    },
    "kernelspec": {
      "name": "python3",
      "display_name": "Python 3"
    },
    "language_info": {
      "name": "python"
    }
  },
  "cells": [
    {
      "cell_type": "markdown",
      "source": [
        "Q-1 What are data structures, and why are they important?\n",
        "  \n",
        "  == In computer science, a data structure is a method of organizing, managing, and storing data. Think of it as a specialized format for arranging information in a computer's memory to allow for efficient access and modification. There are various types of data structures, each designed for specific purposes, like a filing system for a library.\n",
        "\n",
        "-Importance of Data Structures\n",
        "   \n",
        "   * Efficiency: Choosing the correct data structure for a task significantly impacts a program's performance. For example, using a hash table allows for quick lookups, while an array provides fast access to elements by their index. Using the wrong data structure can lead to slow and inefficient code, especially with large amounts of data.\n",
        "\n",
        "   * Algorithm Design: Data structures are the foundation of algorithms. An algorithm is a set of instructions used to perform a specific task. The way an algorithm processes data is often directly tied to the underlying data structure.\n",
        "\n",
        "   * Organization and Reusability: Data structures provide a logical framework for organizing information. They can be reused across different parts of a program or in other programs, which saves development time and promotes consistency.\n",
        "\n",
        "Q-2  Explain the difference between mutable and immutable data types with examples?\n",
        "\n",
        "  == In programming, a mutable data type can be changed after it's created, while an immutable data type cannot. This means that if you try to modify an immutable object, the system creates an entirely new object instead of changing the original one.\n",
        "\n",
        "  Mutable Data Types:-\n",
        "     * Mutable objects are those whose state can be altered after creation. When you modify a mutable object, the change happens \"in-place,\" meaning the object's memory address remains the same.\n",
        "\n",
        "     my_list = [1, 2, 3]\n",
        "print(id(my_list))  # Example memory address: 140737352843840\n",
        "my_list.append(4)\n",
        "print(id(my_list))  # Memory address is the same: 140737352843840\n",
        "print(my_list) # Output: [1, 2, 3, 4]\n",
        "     \n",
        "     Immutable Data Types:-\n",
        "\n",
        "       * Immutable objects cannot be changed once they are created. If you perform an operation that seems to modify an immutable object, you're actually creating a new object with a new memory address.\n",
        "\n",
        "      my_string = \"hello\"\n",
        "print(id(my_string))  # Example memory address: 140737352843872\n",
        "my_string += \" world\"\n",
        "print(id(my_string))  # A new memory address is created: 140737352844000\n",
        "print(my_string) # Output: \"hello world\"\n",
        "\n",
        "\n",
        "Q-3 What are the main differences between lists and tuples in Python?\n",
        "  \n",
        "  == List 1)  Mutable can be changed.\n",
        "          2)  Square brackets: [1, 2, 3]\n",
        "          3)  More methods (e.g., append(), pop() )\n",
        "          4) When you need a dynamic collection\n",
        "      \n",
        "    tuple 1) Immutable (cannot be changed).\n",
        "          2) Parentheses: (1, 2, 3)\n",
        "          3) Faster (less overhead)\n",
        "          4) Fewer methods (no modifying methods)\n",
        "\n",
        " Q-4 Describe how dictionaries store data.\n",
        "\n",
        "  == Dictionaries in most programming languages (like Python) are data structures that store data in key-value pairs. Each key is unique, and it maps to a value. The way dictionaries store and retrieve this data is typically based on a hash table.\n",
        "\n",
        "    Key is hashed: When you insert or look up a key, the dictionary runs the key through a hash function (like hash() in Python) to get an integer (called a hash code).\n",
        "\n",
        "Index calculation: That hash code is then mapped to an index in an internal array (the table).\n",
        "\n",
        "Store value at index: The value (along with the key) is stored at that index.\n",
        "\n",
        "Q-5 Why might you use a set instead of a list in Python.\n",
        "\n",
        "  == You might choose a set instead of a list in Python for several key reasons, depending on what you're trying to do. Here's a breakdown:\n",
        "\n",
        "   . Fast Membership Testing\n",
        "Sets are optimized for checking whether an item exists.\n",
        "\n",
        "Time complexity:\n",
        "\n",
        "x in my_set → O(1) average\n",
        "\n",
        "x in my_list → O(n)`, because it has to scan each item.\n",
        "\n",
        "Q-6 What is a string in Python, and how is it different from a list?\n",
        "\n",
        "  == A string in Python is a sequence of characters, used to represent text. It behaves similarly to a list in some ways, but there are key differences.\n",
        "\n",
        "  example- s = \"hello\"\n",
        "print(s[1])       # 'e'\n",
        "print(s.upper())  # 'HELLO'\n",
        "# s[0] = 'H'      # ❌ Error! Strings are immutable\n",
        "\n",
        "Q-7  How do tuples ensure data integrity in Python?\n",
        "   \n",
        "   == Tuples help ensure data integrity in Python primarily because they are immutable — once created, their contents cannot be changed. This immutability has several important effects that help protect and preserve data.\n",
        "  \n",
        "Immutability Prevents Accidental Changes\n",
        "After a tuple is created, you can't:\n",
        "\n",
        ".Add or remove items\n",
        "\n",
        ".Modify existing values\n",
        "\n",
        ".Reorder the contents\n",
        "\n",
        "Example:-\n",
        "         \n",
        "         person = (\"Alice\", 30)\n",
        "# person[0] = \"Bob\"  ❌ Error: 'tuple' object does not support item assignment\n",
        "\n",
        "Q-8 What is a hash table, and how does it relate to dictionaries in Python?\n",
        "\n",
        "  == A hash table is a data structure that stores data in key-value pairs, allowing for very fast lookup, insertion, and deletion. It’s the core technology behind dictionaries in Python.\n",
        "   \n",
        "  . A hash table works by using a hash function to convert a key (like \"name\" or 42) into a hash code (an integer), which is then mapped to an index in an underlying array where the value is stored.\n",
        "\n",
        "\n",
        " Q-9 Can lists contain different data types in Python?\n",
        "\n",
        "   == Yes, lists in Python can contain different data types.\n",
        "\n",
        "Python lists are heterogeneous, meaning they can store a mix of data types in the same list — including strings, integers, floats, other lists, objects, or even functions.\n",
        "  \n",
        "Q-10 Explain why strings are immutable in Python?\n",
        "\n",
        "   == Strings in Python are immutable, meaning that once a string is created, it cannot be changed. This design choice is intentional and has several important reasons behind it.\n",
        "  \n",
        "  1) Efficiency and Performance.\n",
        "  2) Hashability (Used in Dicts and Sets).\n",
        "  3) Data Safety\n",
        "  \n",
        "Q-11 What advantages do dictionaries offer over lists for certain tasks?\n",
        "\n",
        "   == Dictionaries offer several key advantages over lists for specific tasks, particularly when dealing with key-value pair data or when fast lookups are needed.\n",
        "\n",
        "  1. Faster Lookup Time\n",
        "Dictionaries use hashing, so accessing a value by key is typically O(1) (constant time).\n",
        "\n",
        "Lists, on the other hand, require a linear search (O(n)) if you're looking for a value.\n",
        "Use Case Example: Looking up a user’s email by their username.\n",
        "\n",
        " 2. Better for Structured Data\n",
        "Dictionaries are ideal for representing objects or structured data with named fields.\n",
        "Each key acts as a label, improving readability and organization.\n",
        "\n",
        " 3. Avoids Duplicates in Keys\n",
        "Dictionary keys must be unique, which helps prevent accidental duplication of identifiers.\n",
        "Lists can contain duplicates, which may be problematic in some use cases.\n",
        "\n",
        "Q-12 Describe a scenario where using a tuple would be preferable over a list?\n",
        "\n",
        "  == Using a tuple is preferable over a list when you need an immutable, fixed-size, and hashable collection of items.\n",
        "\n",
        "  Using a Tuple as a Dictionary Key\n",
        "Suppose you're building a system to store weather data for different geographic locations. Each location is defined by its latitude and longitude, and you want to map each location to its corresponding weather information.\n",
        "\n",
        "\n",
        " Q-13  How do sets handle duplicate values in Python?\n",
        "\n",
        "   == In Python, sets automatically eliminate duplicate values. When you add elements to a set, any duplicates are ignored, and only unique elements are retained.\n",
        "\n",
        "  Q-14 How does the “in” keyword work differently for lists and dictionaries?\n",
        "\n",
        "    == Great question! The in keyword is used for membership testing in Python, but it behaves differently depending on the data structure—specifically for lists vs. dictionaries.\n",
        "  \n",
        "  my_list = [10, 20, 30]\n",
        "\n",
        "print(20 in my_list)  #  True\n",
        "print(40 in my_list)  # False\n",
        "\n",
        "Q15- Can you modify the elements of a tuple? Explain why or why not?\n",
        "\n",
        " == No, you cannot modify the elements of a tuple in Python because tuples are immutable.\n",
        "\n",
        "hy Tuples Are Immutable\n",
        "Immutability means that once a tuple is created, its contents (elements) cannot be changed—you can't add, remove, or modify elements.\n",
        "\n",
        "This design allows tuples to be:\n",
        "\n",
        "Hashable (usable as keys in dictionaries and elements in sets)\n",
        "\n",
        "Memory-efficient\n",
        "\n",
        "Safe for use in constant or fixed collections\n",
        "\n",
        "Q-16 What is a nested dictionary, and give an example of its use case?\n",
        "  \n",
        "  == A nested dictionary is a dictionary within another dictionary. It allows you to organize data hierarchically or in multiple levels, making it easier to represent complex structured data.\n",
        "\n",
        "Q-17 Describe the time complexity of accessing elements in a dictionary?\n",
        "\n",
        "  == Accessing elements in a Python dictionary has a typical time complexity of O(1) — constant time.\n",
        "\n",
        "Dictionaries in Python are implemented as hash tables.\n",
        "\n",
        "When you access a value using a key like my_dict[key], Python:\n",
        "\n",
        "Computes the hash of the key.\n",
        "\n",
        "Uses that hash to find the correct \"bucket\" in memory.\n",
        "\n",
        "Retrieves the value directly, without scanning other elements.\n",
        "\n",
        "This is why lookup is generally very fast, regardless of the dictionary's size.\n",
        "\n",
        "\n",
        "Q-18 In what situations are lists preferred over dictionaries?\n",
        "\n",
        "  == Lists are preferred over dictionaries when order, position, or duplicates matter, and you don't need key-based access.\n",
        "\n",
        "Lists maintain a strict sequence of elements, which is useful when position is important.\n",
        "Lists maintain a strict sequence of elements, which is useful when position is important.\n",
        "\n",
        "Use Case: Managing a to-do list, playlist, or ordered steps.\n",
        "\n",
        "Q-19 Why are dictionaries considered unordered, and how does that affect data retrieval?\n",
        "\n",
        "  ==Historically, dictionaries in Python were considered unordered because prior to Python 3.7, they didn’t guarantee the order in which items were stored or retrieved. This meant that:\n",
        "\n",
        "The order of keys when iterating over a dictionary could be arbitrary and unpredictable.\n",
        "You couldn't rely on insertion order for logic, output, or testing.\n",
        "\n",
        "Q-20 Explain the difference between a list and a dictionary in terms of data retrieval?\n",
        "\n",
        "  ==Data Retrieval in Lists\n",
        "Access by index: You retrieve elements by their position (an integer index).\n",
        "Time complexity: Accessing an element by index is O(1) (fast).\n",
        "Search by value: To find if a value exists or its position, Python does a linear search, which is O(n) (slower for large lists).\n",
        "  my_list = [\"apple\", \"banana\", \"cherry\"]\n",
        "print(my_list[1])      # Output: banana  (fast access by index)\n",
        "print(\"banana\" in my_list)  # Linear search O(n)\n",
        "\n",
        " Data Retrieval in Dictionaries\n",
        "\n",
        "Access by key: You retrieve values using keys (not positions).\n",
        "Time complexity: Accessing a value by key is typically O(1), very fast due to hashing.\n",
        "Keys must be unique; you cannot retrieve by position or index.\n",
        "\n",
        " my_dict = {\"a\": \"apple\", \"b\": \"banana\", \"c\": \"cherry\"}\n",
        "print(my_dict[\"b\"])    # Output: banana (fast key-based access)\n",
        "print(\"banana\" in my_dict.values())  # Linear search on values O(n)\n",
        "\n",
        "\n",
        "          \n",
        "\n",
        "\n",
        "\n",
        "\n",
        "\n",
        "\n",
        "\n",
        "\n",
        "\n",
        "\n",
        "\n",
        "\n",
        "  \n",
        "\n",
        "\n",
        "\n",
        "\n",
        "\n",
        "\n",
        "\n",
        "\n",
        "\n",
        "    \n",
        "\n",
        "\n",
        "\n"
      ],
      "metadata": {
        "id": "CMWkHhe5ozqF"
      }
    },
    {
      "cell_type": "markdown",
      "source": [
        "practical of data structures"
      ],
      "metadata": {
        "id": "gnWzb6DQHT5I"
      }
    },
    {
      "cell_type": "markdown",
      "source": [
        "Q-1 Write a code to create a string with your name and print it?\n"
      ],
      "metadata": {
        "id": "DWWcCDEbHerI"
      }
    },
    {
      "cell_type": "code",
      "source": [
        "name=\"suraj\"\n",
        "\n",
        "print(name)"
      ],
      "metadata": {
        "colab": {
          "base_uri": "https://localhost:8080/"
        },
        "id": "0N-DStWyIO3I",
        "outputId": "28fc773f-eef1-4dbc-9959-a9619cd56f12"
      },
      "execution_count": null,
      "outputs": [
        {
          "output_type": "stream",
          "name": "stdout",
          "text": [
            "suraj\n"
          ]
        }
      ]
    },
    {
      "cell_type": "markdown",
      "source": [
        "Write a code to find the length of the string \"Hello World\""
      ],
      "metadata": {
        "id": "IuPV-SCHIdMp"
      }
    },
    {
      "cell_type": "code",
      "source": [
        "text=\"hello world\"\n",
        "length=len(text)\n",
        "print(\"length of the string:\",length)"
      ],
      "metadata": {
        "colab": {
          "base_uri": "https://localhost:8080/"
        },
        "id": "g48sVVugInJ5",
        "outputId": "5c8e1e86-c167-48a0-e4d7-9c6fcd5a61ee"
      },
      "execution_count": null,
      "outputs": [
        {
          "output_type": "stream",
          "name": "stdout",
          "text": [
            "length of the string: 11\n"
          ]
        }
      ]
    },
    {
      "cell_type": "markdown",
      "source": [
        "Q-3 Write a code to slice the first 3 characters from the string \"Python Programming\""
      ],
      "metadata": {
        "id": "rPft9-6hJ07S"
      }
    },
    {
      "cell_type": "code",
      "source": [
        "text = \"Python Programming\"\n",
        "sliced_text = text[:3]\n",
        "print(\"First 3 characters:\", sliced_text)\n"
      ],
      "metadata": {
        "colab": {
          "base_uri": "https://localhost:8080/"
        },
        "id": "lRqBt_JCMSOX",
        "outputId": "d5302354-bd85-4fca-f750-61819f946fb3"
      },
      "execution_count": null,
      "outputs": [
        {
          "output_type": "stream",
          "name": "stdout",
          "text": [
            "First 3 characters: Pyt\n"
          ]
        }
      ]
    },
    {
      "cell_type": "markdown",
      "source": [
        "Q-4 Write a code to convert the string \"hello\" to uppercas."
      ],
      "metadata": {
        "id": "ZvoN3nGtMfbA"
      }
    },
    {
      "cell_type": "code",
      "source": [
        "text=\"hello\"\n",
        "uppercase_text=text.upper()\n",
        "print(uppercase_text)"
      ],
      "metadata": {
        "colab": {
          "base_uri": "https://localhost:8080/"
        },
        "id": "CB1etnusMoo3",
        "outputId": "28ca4670-59f8-4057-8e3d-81cfe4831232"
      },
      "execution_count": null,
      "outputs": [
        {
          "output_type": "stream",
          "name": "stdout",
          "text": [
            "HELLO\n"
          ]
        }
      ]
    },
    {
      "cell_type": "markdown",
      "source": [
        "Q-5 Write a code to replace the word \"apple\" with \"orange\" in the string \"I like apple\""
      ],
      "metadata": {
        "id": "t2FS5QmcNhiT"
      }
    },
    {
      "cell_type": "code",
      "source": [
        "text=\"i lkie apple\"\n",
        "updated_text=text.replace(\"apple\",\"orange\")\n",
        "print(updated_text)"
      ],
      "metadata": {
        "colab": {
          "base_uri": "https://localhost:8080/"
        },
        "id": "Qyfu3CziN4Jq",
        "outputId": "9d53819e-b8ce-46f8-9a58-e5dae2170dd7"
      },
      "execution_count": null,
      "outputs": [
        {
          "output_type": "stream",
          "name": "stdout",
          "text": [
            "i lkie orange\n"
          ]
        }
      ]
    },
    {
      "cell_type": "markdown",
      "source": [
        "Q-6 Write a code to create a list with numbers 1 to 5 and print it."
      ],
      "metadata": {
        "id": "M0uoeRXZOZ2Y"
      }
    },
    {
      "cell_type": "code",
      "source": [
        "numbers=[1,2,3,4,5,]\n",
        "print(numbers)"
      ],
      "metadata": {
        "colab": {
          "base_uri": "https://localhost:8080/"
        },
        "id": "USXRWTsqOj7N",
        "outputId": "8131693f-9658-4041-c153-940b8d457146"
      },
      "execution_count": null,
      "outputs": [
        {
          "output_type": "stream",
          "name": "stdout",
          "text": [
            "[1, 2, 3, 4, 5]\n"
          ]
        }
      ]
    },
    {
      "cell_type": "markdown",
      "source": [
        "Q-7 Write a code to append the number 10 to the list [1, 2, 3, 4]"
      ],
      "metadata": {
        "id": "WP3crFuXO_4d"
      }
    },
    {
      "cell_type": "code",
      "source": [
        "number=[1,2,3,4]\n",
        "numbers.append(10)\n",
        "print(numbers)"
      ],
      "metadata": {
        "colab": {
          "base_uri": "https://localhost:8080/"
        },
        "id": "HsyY6iXiPHCQ",
        "outputId": "60a2ddb9-c493-4d51-c003-999981007a9a"
      },
      "execution_count": null,
      "outputs": [
        {
          "output_type": "stream",
          "name": "stdout",
          "text": [
            "[1, 2, 3, 4, 5, 10]\n"
          ]
        }
      ]
    },
    {
      "cell_type": "markdown",
      "source": [
        "Q-8 Write a code to remove the number 3 from the list [1, 2, 3, 4, 5]"
      ],
      "metadata": {
        "id": "hH6GC6YDP1pn"
      }
    },
    {
      "cell_type": "code",
      "source": [
        "numbers=[1,2,3,4,5,6,7,8]\n",
        "numbers.remove(5)\n",
        "print(numbers)"
      ],
      "metadata": {
        "colab": {
          "base_uri": "https://localhost:8080/"
        },
        "id": "6T1a74e_P8z7",
        "outputId": "a3cea1be-e5c0-4a2a-8729-f73d40d63230"
      },
      "execution_count": null,
      "outputs": [
        {
          "output_type": "stream",
          "name": "stdout",
          "text": [
            "[1, 2, 3, 4, 6, 7, 8]\n"
          ]
        }
      ]
    },
    {
      "cell_type": "markdown",
      "source": [
        "Q-9 Write a code to access the second element in the list ['a', 'b', 'c', 'd']"
      ],
      "metadata": {
        "id": "z3EBSIkYQUbS"
      }
    },
    {
      "cell_type": "code",
      "source": [
        "letters=['a','b','c','d']\n",
        "second_element=letters[1]\n",
        "print(second_element)"
      ],
      "metadata": {
        "colab": {
          "base_uri": "https://localhost:8080/"
        },
        "id": "80KX6qQFQe8x",
        "outputId": "26672bbb-33d9-4b2b-df80-b1e797d38a85"
      },
      "execution_count": null,
      "outputs": [
        {
          "output_type": "stream",
          "name": "stdout",
          "text": [
            "b\n"
          ]
        }
      ]
    },
    {
      "cell_type": "markdown",
      "source": [
        "Q-10 Write a code to reverse the list [10, 20, 30, 40, 50]."
      ],
      "metadata": {
        "id": "E-9HkF4BRO2I"
      }
    },
    {
      "cell_type": "code",
      "source": [
        "numbers=[1,2,3,4,5]\n",
        "numbers.reverse()\n",
        "print(numbers)"
      ],
      "metadata": {
        "colab": {
          "base_uri": "https://localhost:8080/"
        },
        "id": "b6FJUo0hRWBh",
        "outputId": "55f90677-20c2-46bb-f467-af7c121d28c8"
      },
      "execution_count": null,
      "outputs": [
        {
          "output_type": "stream",
          "name": "stdout",
          "text": [
            "[5, 4, 3, 2, 1]\n"
          ]
        }
      ]
    },
    {
      "cell_type": "markdown",
      "source": [
        "Q-11 Write a code to create a tuple with the elements 100, 200, 300 and print it."
      ],
      "metadata": {
        "id": "fEHbnNBcFP1E"
      }
    },
    {
      "cell_type": "code",
      "source": [
        "# create a tuple\n",
        "my_tuple= (100,200,300)\n",
        "print(my_tuple)\n",
        "print(my_tuple)"
      ],
      "metadata": {
        "colab": {
          "base_uri": "https://localhost:8080/"
        },
        "id": "erIomk7SFoMu",
        "outputId": "5b4b61fc-94a6-499a-8753-8f5b1a592e98"
      },
      "execution_count": null,
      "outputs": [
        {
          "output_type": "stream",
          "name": "stdout",
          "text": [
            "(100, 200, 300)\n",
            "(100, 200, 300)\n"
          ]
        }
      ]
    },
    {
      "cell_type": "markdown",
      "source": [
        "Q-12 Write a code to access the second-to-last element of the tuple ('red', 'green', 'blue', 'yellow')"
      ],
      "metadata": {
        "id": "1n4c8P4eGb6W"
      }
    },
    {
      "cell_type": "code",
      "source": [
        "# define the tuple\n",
        "colours=('red','green','blue','yellow')\n",
        "\n",
        "#access the second-to-last element\n",
        "second_last =colours[-2]\n",
        "#print the result\n",
        "print(second_last)"
      ],
      "metadata": {
        "colab": {
          "base_uri": "https://localhost:8080/"
        },
        "id": "UcIDKF3vJtk8",
        "outputId": "5efca1a4-3b1f-49c5-edd6-97441c68cd2f"
      },
      "execution_count": null,
      "outputs": [
        {
          "output_type": "stream",
          "name": "stdout",
          "text": [
            "blue\n"
          ]
        }
      ]
    },
    {
      "cell_type": "markdown",
      "source": [
        "Q-13  Write a code to find the minimum number in the tuple (10, 20, 5, 15)."
      ],
      "metadata": {
        "id": "hS8FQKtLLBs5"
      }
    },
    {
      "cell_type": "code",
      "source": [
        "# Define the tuple\n",
        "numbers = (10, 20, 5, 15)\n",
        "\n",
        "# Find the minimum number\n",
        "minimum = min(numbers)\n",
        "\n",
        "# Print the result\n",
        "print(minimum)\n"
      ],
      "metadata": {
        "colab": {
          "base_uri": "https://localhost:8080/"
        },
        "id": "Q4TCEHTTMqMd",
        "outputId": "c155cf67-9838-4f0c-8183-405cb326d775"
      },
      "execution_count": null,
      "outputs": [
        {
          "output_type": "stream",
          "name": "stdout",
          "text": [
            "5\n"
          ]
        }
      ]
    },
    {
      "cell_type": "markdown",
      "source": [
        "Q-14  Write a code to find the index of the element \"cat\" in the tuple ('dog', 'cat', 'rabbit')"
      ],
      "metadata": {
        "id": "xq9QhfnpM9Hi"
      }
    },
    {
      "cell_type": "code",
      "source": [
        "# define the tuple\n",
        "animals=(\"dog\",\"cat\",\"rabbit\")\n",
        "#find the indax of \"cat\"\n",
        "index=animals.index(\"cat\")\n",
        "#print the result\n",
        "print(index)"
      ],
      "metadata": {
        "colab": {
          "base_uri": "https://localhost:8080/"
        },
        "id": "fqa3jNXoND5I",
        "outputId": "d775c00a-0149-4956-b220-5ad33886df6f"
      },
      "execution_count": null,
      "outputs": [
        {
          "output_type": "stream",
          "name": "stdout",
          "text": [
            "1\n"
          ]
        }
      ]
    },
    {
      "cell_type": "markdown",
      "source": [
        "Q-15  Write a code to create a tuple containing three different fruits and check if \"kiwi\" is in it"
      ],
      "metadata": {
        "id": "P8YryemfNwJG"
      }
    },
    {
      "cell_type": "code",
      "source": [
        "# create a tuples of fruit\n",
        "fruits=(\"apple\",\"banana\",\"grapes\")\n",
        "# check if \"kiwi\"is in the tuple\n",
        "if\"kiwi\" in fruits:\n",
        "  print(\"kiwi is in the tuple\")\n",
        "else:\n",
        "  print(\"kiwi is not in the tuple\")\n"
      ],
      "metadata": {
        "colab": {
          "base_uri": "https://localhost:8080/"
        },
        "id": "JM7GXqhmN_oo",
        "outputId": "c02abace-e03c-4eb8-aea0-01038584f578"
      },
      "execution_count": null,
      "outputs": [
        {
          "output_type": "stream",
          "name": "stdout",
          "text": [
            "kiwi is not in the tuple\n"
          ]
        }
      ]
    },
    {
      "cell_type": "markdown",
      "source": [
        "Q-16  Write a code to create a set with the elements 'a', 'b', 'c' and print it."
      ],
      "metadata": {
        "id": "RdrUFDW5PMGg"
      }
    },
    {
      "cell_type": "code",
      "source": [
        "# create a set\n",
        "my_set=(\"a\",\"b\",\"c\")\n",
        "print(my_set)\n"
      ],
      "metadata": {
        "colab": {
          "base_uri": "https://localhost:8080/"
        },
        "id": "RuaiE74JPULL",
        "outputId": "e75ca384-5538-4edd-b467-2d9dc56865c6"
      },
      "execution_count": null,
      "outputs": [
        {
          "output_type": "stream",
          "name": "stdout",
          "text": [
            "('a', 'b', 'c')\n"
          ]
        }
      ]
    },
    {
      "cell_type": "markdown",
      "source": [
        "Q-17 Write a code to clear all elements from the set {1, 2, 3, 4, 5}."
      ],
      "metadata": {
        "id": "TXV4GEzPPyVU"
      }
    },
    {
      "cell_type": "code",
      "source": [
        "# define the set\n",
        "numbers ={1,2,3,4,5}\n",
        "#clear all the elements from the set\n",
        "numbers.clear()\n",
        "#print the set after clearing\n",
        "print(numbers)"
      ],
      "metadata": {
        "colab": {
          "base_uri": "https://localhost:8080/"
        },
        "id": "TpayofMAP39g",
        "outputId": "4dbf955a-6f8c-4e93-8b93-b41a117c1989"
      },
      "execution_count": null,
      "outputs": [
        {
          "output_type": "stream",
          "name": "stdout",
          "text": [
            "set()\n"
          ]
        }
      ]
    },
    {
      "cell_type": "markdown",
      "source": [
        "Q-18 Write a code to remove the element 4 from the set {1, 2, 3, 4}."
      ],
      "metadata": {
        "id": "V_ga0sJQRGI1"
      }
    },
    {
      "cell_type": "code",
      "source": [
        "# define the set\n",
        "numbers={1,2,3,4}\n",
        "# remove the element 4\n",
        "numbers.remove(4)\n",
        "# print the set after removal\n",
        "print(numbers)"
      ],
      "metadata": {
        "colab": {
          "base_uri": "https://localhost:8080/"
        },
        "id": "EvSui-jxRLwc",
        "outputId": "31dd7efe-2fca-40a4-aea3-4bc964bf38ed"
      },
      "execution_count": null,
      "outputs": [
        {
          "output_type": "stream",
          "name": "stdout",
          "text": [
            "{1, 2, 3}\n"
          ]
        }
      ]
    },
    {
      "cell_type": "markdown",
      "source": [
        "Q-19  Write a code to find the union of two sets {1, 2, 3} and {3, 4, 5}.\n"
      ],
      "metadata": {
        "id": "hGv2vZofRwcS"
      }
    },
    {
      "cell_type": "code",
      "source": [
        "#  define the set\n",
        "set1={1,2,3}\n",
        "set2={3,4,5}\n",
        "\n",
        "#find the union\n",
        "union_set=set1.union(set2)\n",
        "print(union_set)"
      ],
      "metadata": {
        "colab": {
          "base_uri": "https://localhost:8080/"
        },
        "id": "XGySaxLXR2OT",
        "outputId": "1d6a10f8-98e7-4ec6-f79b-d859c3dcf7f1"
      },
      "execution_count": null,
      "outputs": [
        {
          "output_type": "stream",
          "name": "stdout",
          "text": [
            "{1, 2, 3, 4, 5}\n"
          ]
        }
      ]
    },
    {
      "cell_type": "markdown",
      "source": [
        "Q-20  Write a code to find the intersection of two sets {1, 2, 3} and {2, 3, 4}.\n"
      ],
      "metadata": {
        "id": "tFDCw25bSp27"
      }
    },
    {
      "cell_type": "code",
      "source": [
        "# define the set\n",
        "set1={1,2,3}\n",
        "set2={2,3,4}\n",
        "\n",
        "#find the intersection\n",
        "intersection_set=set1.intersection(set2)\n",
        "print(intersection_set)\n",
        "print(intersection_set)\n"
      ],
      "metadata": {
        "colab": {
          "base_uri": "https://localhost:8080/"
        },
        "id": "pXrmDOm1S2py",
        "outputId": "0abba4a4-5648-4b3b-c589-bea6e3889400"
      },
      "execution_count": null,
      "outputs": [
        {
          "output_type": "stream",
          "name": "stdout",
          "text": [
            "{2, 3}\n",
            "{2, 3}\n"
          ]
        }
      ]
    },
    {
      "cell_type": "markdown",
      "source": [
        "Q-21  Write a code to create a dictionary with the keys \"name\", \"age\", and \"city\", and print it."
      ],
      "metadata": {
        "id": "Rv09cNCMJ108"
      }
    },
    {
      "cell_type": "code",
      "source": [
        "# create a dictionry\n",
        "person={\"name\":\"suraj\",\"age\":20,\"city\":\"gurugram\"}\n",
        "# print the dictionary\n",
        "print(person)\n",
        "\n"
      ],
      "metadata": {
        "colab": {
          "base_uri": "https://localhost:8080/"
        },
        "id": "o8emB8-eKJgQ",
        "outputId": "bf4f21f2-e46b-494f-be36-af238cb96c6a"
      },
      "execution_count": null,
      "outputs": [
        {
          "output_type": "stream",
          "name": "stdout",
          "text": [
            "{'name': 'suraj', 'age': 20, 'city': 'gurugram'}\n"
          ]
        }
      ]
    },
    {
      "cell_type": "markdown",
      "source": [
        "Q-22 Write a code to add a new key-value pair \"country\": \"USA\" to the dictionary {'name': 'John', 'age': 25}"
      ],
      "metadata": {
        "id": "H9TP6hMcLKpd"
      }
    },
    {
      "cell_type": "code",
      "source": [
        "# original dicitionary\n",
        "person={\"name\":\"john\",\"age\":25}\n",
        "# add a new key value pair\n",
        "person[\"country\"]=\"usa\"\n",
        "print(person)\n"
      ],
      "metadata": {
        "colab": {
          "base_uri": "https://localhost:8080/"
        },
        "id": "AX-Vz2wMLR1J",
        "outputId": "a5bd83b1-53ba-4180-affd-2505be9b2f4f"
      },
      "execution_count": null,
      "outputs": [
        {
          "output_type": "stream",
          "name": "stdout",
          "text": [
            "{'name': 'john', 'age': 25, 'country': 'usa'}\n"
          ]
        }
      ]
    },
    {
      "cell_type": "markdown",
      "source": [
        "Q-23  Write a code to access the value associated with the key \"name\" in the dictionary {'name': 'Alice', 'age': 30}."
      ],
      "metadata": {
        "id": "S1OqOTjMNdFe"
      }
    },
    {
      "cell_type": "code",
      "source": [
        "# define the dictionary\n",
        "person={'name':'alice','age':30}\n",
        "name_value=person['name']\n",
        "print(name_value)"
      ],
      "metadata": {
        "colab": {
          "base_uri": "https://localhost:8080/"
        },
        "id": "Lw6cMaDXNjdm",
        "outputId": "42f5f44b-522f-4fec-d19c-a002835af710"
      },
      "execution_count": null,
      "outputs": [
        {
          "output_type": "stream",
          "name": "stdout",
          "text": [
            "alice\n"
          ]
        }
      ]
    },
    {
      "cell_type": "markdown",
      "source": [
        "Q-24  Write a code to remove the key \"age\" from the dictionary {'name': 'Bob', 'age': 22, 'city': 'New York'}."
      ],
      "metadata": {
        "id": "Li35cTwKO1Zl"
      }
    },
    {
      "cell_type": "code",
      "source": [
        "# original dictionry\n",
        "person= {'name':'bob','age':22,'city':'newyork'}\n",
        "del person['age']\n",
        "print(person)"
      ],
      "metadata": {
        "colab": {
          "base_uri": "https://localhost:8080/"
        },
        "id": "SuI-RG6AO7Uf",
        "outputId": "962e42ae-fd49-4043-98f6-21ca571880a4"
      },
      "execution_count": null,
      "outputs": [
        {
          "output_type": "stream",
          "name": "stdout",
          "text": [
            "{'name': 'bob', 'city': 'newyork'}\n"
          ]
        }
      ]
    },
    {
      "cell_type": "markdown",
      "source": [
        "Q-25  Write a code to check if the key \"city\" exists in the dictionary {'name': 'Alice', 'city': 'Paris'}."
      ],
      "metadata": {
        "id": "XaMI0IDaRJNu"
      }
    },
    {
      "cell_type": "code",
      "source": [
        "# Define the dictionary\n",
        "person = {'name': 'Alice', 'city': 'Paris'}\n",
        "\n",
        "# Check if the key \"city\" exists\n",
        "if 'city' in person:\n",
        "    print(\"Key 'city' exists in the dictionary.\")\n",
        "else:\n",
        "    print(\"Key 'city' does not exist in the dictionary.\")\n"
      ],
      "metadata": {
        "colab": {
          "base_uri": "https://localhost:8080/"
        },
        "id": "v0YX0yzVT20G",
        "outputId": "79055b9b-cc91-41e2-9f6e-eda9726b2011"
      },
      "execution_count": null,
      "outputs": [
        {
          "output_type": "stream",
          "name": "stdout",
          "text": [
            "Key 'city' exists in the dictionary.\n"
          ]
        }
      ]
    },
    {
      "cell_type": "markdown",
      "source": [
        "Q-26 Write a code to create a list, a tuple, and a dictionary, and print them all."
      ],
      "metadata": {
        "id": "SybQouv9UD3N"
      }
    },
    {
      "cell_type": "code",
      "source": [
        "# Create a list\n",
        "my_list = [1, 2, 3, 4, 5]\n",
        "\n",
        "# Create a tuple\n",
        "my_tuple = ('apple', 'banana', 'cherry')\n",
        "\n",
        "# Create a dictionary\n",
        "my_dict = {'name': 'Alice', 'age': 30, 'city': 'Paris'}\n",
        "\n",
        "# Print them all\n",
        "print(\"List:\", my_list)\n",
        "print(\"Tuple:\", my_tuple)\n",
        "print(\"Dictionary:\", my_dict)\n"
      ],
      "metadata": {
        "colab": {
          "base_uri": "https://localhost:8080/"
        },
        "id": "-AG4yGQaUMRU",
        "outputId": "f7f0ffe2-4666-4e42-b521-2c5c2af19b46"
      },
      "execution_count": null,
      "outputs": [
        {
          "output_type": "stream",
          "name": "stdout",
          "text": [
            "List: [1, 2, 3, 4, 5]\n",
            "Tuple: ('apple', 'banana', 'cherry')\n",
            "Dictionary: {'name': 'Alice', 'age': 30, 'city': 'Paris'}\n"
          ]
        }
      ]
    },
    {
      "cell_type": "markdown",
      "source": [
        "Q-27  Write a code to create a list of 5 random numbers between 1 and 100, sort it in ascending order, and print the  result.(replaced)"
      ],
      "metadata": {
        "id": "jcj3Uq_hUgdN"
      }
    },
    {
      "cell_type": "code",
      "source": [
        "import random\n",
        "\n",
        "# Create a list of 5 random numbers between 1 and 100\n",
        "random_numbers = [random.randint(1, 100) for _ in range(5)]\n",
        "\n",
        "# Sort the list in ascending order\n",
        "random_numbers.sort()\n",
        "\n",
        "# Print the sorted list\n",
        "print(\"Sorted random numbers:\", random_numbers)\n"
      ],
      "metadata": {
        "colab": {
          "base_uri": "https://localhost:8080/"
        },
        "id": "fAhfUAa6WqxU",
        "outputId": "6f3e998e-1722-4d63-8232-2aae93a57b43"
      },
      "execution_count": null,
      "outputs": [
        {
          "output_type": "stream",
          "name": "stdout",
          "text": [
            "Sorted random numbers: [24, 32, 64, 80, 96]\n"
          ]
        }
      ]
    },
    {
      "cell_type": "markdown",
      "source": [
        "Q-28 Write a code to create a list with strings and print the element at the third index."
      ],
      "metadata": {
        "id": "BGx9iZteWw22"
      }
    },
    {
      "cell_type": "code",
      "source": [
        "# create a list with strings\n",
        "fruits=['apple','banana','cherry','date','elderberry']\n",
        "print(\"element at index 3:\",fruits[3])"
      ],
      "metadata": {
        "colab": {
          "base_uri": "https://localhost:8080/"
        },
        "id": "O97JrZGpW7Z2",
        "outputId": "70c21db5-409e-4859-9a6d-22caa8a6f817"
      },
      "execution_count": null,
      "outputs": [
        {
          "output_type": "stream",
          "name": "stdout",
          "text": [
            "element at index 3: date\n"
          ]
        }
      ]
    },
    {
      "cell_type": "markdown",
      "source": [
        "Q-29  Write a code to combine two dictionaries into one and print the result."
      ],
      "metadata": {
        "id": "MNKbpn5ZXqUr"
      }
    },
    {
      "cell_type": "code",
      "source": [
        "# Define two dictionaries\n",
        "dict1 = {'name': 'Alice', 'age': 30}\n",
        "dict2 = {'city': 'Paris', 'country': 'France'}\n",
        "\n",
        "# Combine the dictionaries\n",
        "combined_dict = {**dict1, **dict2}\n",
        "\n",
        "# Print the result\n",
        "print(\"Combined dictionary:\", combined_dict)\n"
      ],
      "metadata": {
        "colab": {
          "base_uri": "https://localhost:8080/"
        },
        "id": "fRMSOIjJXwmc",
        "outputId": "05fb2979-7676-4df0-c49d-dd8ae351db50"
      },
      "execution_count": null,
      "outputs": [
        {
          "output_type": "stream",
          "name": "stdout",
          "text": [
            "Combined dictionary: {'name': 'Alice', 'age': 30, 'city': 'Paris', 'country': 'France'}\n"
          ]
        }
      ]
    },
    {
      "cell_type": "markdown",
      "source": [
        "Q-30  Write a code to convert a list of strings into a set."
      ],
      "metadata": {
        "id": "ZhKoQTYvX99t"
      }
    },
    {
      "cell_type": "code",
      "source": [
        "# define a list of strings\n",
        "fruits=['apple','banana','cherry','apple','banana']\n",
        "fruits_set=set(fruits)\n",
        "print(fruits)"
      ],
      "metadata": {
        "colab": {
          "base_uri": "https://localhost:8080/"
        },
        "id": "hIzVvfXwYDdB",
        "outputId": "5435413d-782b-47e5-d76c-da397a510dac"
      },
      "execution_count": null,
      "outputs": [
        {
          "output_type": "stream",
          "name": "stdout",
          "text": [
            "['apple', 'banana', 'cherry', 'apple', 'banana']\n"
          ]
        }
      ]
    }
  ]
}